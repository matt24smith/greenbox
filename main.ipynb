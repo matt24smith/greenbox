{
 "cells": [
  {
   "cell_type": "code",
   "execution_count": 2,
   "metadata": {},
   "outputs": [],
   "source": [
    "from datetime import date as D\n",
    "from datetime import datetime as DT\n",
    "from datetime import timedelta\n",
    "from matplotlib.font_manager import FontProperties\n",
    "import matplotlib\n",
    "matplotlib.use('Agg')\n",
    "import matplotlib.pyplot as plt\n",
    "import matplotlib.dates as mdates\n",
    "import numpy as np\n",
    "import os\n",
    "import socketserver\n",
    "import sqlite3\n",
    "import sys\n",
    "import threading\n",
    "import time\n",
    "import urllib.request\n",
    "import requests"
   ]
  },
  {
   "cell_type": "code",
   "execution_count": 3,
   "metadata": {},
   "outputs": [],
   "source": [
    "### CONFIG ###\n",
    "PORT = 8000\n",
    "SENSOR_UPDATE_INTERVAL = 60  # seconds\n",
    "GRAPH_UPDATE_INTERVAL = 900  # 900s = 15m\n",
    "sensor1ip = 'http://192.168.4.1:42000'\n",
    "jsonfile = r\"/var/www/html/projects/greenbox/greenbox.js\"\n",
    "phpfile = r\"/var/www/html/projects/greenbox/graph.php\"\n",
    "graphfile = r\"/var/www/html/projects/greenbox/graph.png\"\n",
    "palette = ['xkcd:sea blue', 'xkcd:leaf green', '#efa00b',\n",
    "           '#d65108', '#591f0a', '#F7F7F7']"
   ]
  },
  {
   "cell_type": "code",
   "execution_count": 4,
   "metadata": {},
   "outputs": [],
   "source": [
    "def timestamp(deltaHours=False): \n",
    "    if not deltaHours:\n",
    "        return time.strftime(\"%Y-%m-%d %H:%M:%S\") \n",
    "    else:\n",
    "        newtime = DT.now() + timedelta(hours=i)\n",
    "        return (newtime).strftime(\"%Y-%m-%d %H:%M:%S\")"
   ]
  },
  {
   "cell_type": "code",
   "execution_count": 5,
   "metadata": {},
   "outputs": [],
   "source": [
    "def writeJS(res, jsonfile):\n",
    "    filetext = \"var imgtag = \\\"<img src='projects/greenbox/graph.png?\"\n",
    "    filetext += str(int(time.time()))\n",
    "    filetext += \"' alt='Sensor Data (24h)'></img>\\\"\\n\"\n",
    "    filetext += \"document.getElementById('graphImg').innerHTML = imgtag\\n\"\n",
    "    \n",
    "    jsonStream = {x[0] : list(x[1:]) for x in res}\n",
    "    filetext += json2js(jsonStream)\n",
    "    \n",
    "    with open (jsonfile, \"w\") as f:\n",
    "        f.write(filetext)"
   ]
  },
  {
   "cell_type": "code",
   "execution_count": 6,
   "metadata": {},
   "outputs": [],
   "source": [
    "def writePHP(phpfile):\n",
    "    filetext = \"<!-- graph.png -->\\n\"\n",
    "    filetext += \"<img src='projects/greenbox/graph.png?\"\n",
    "    filetext += str(int(time.time()))\n",
    "    filetext += \"' alt='Sensor Data (24h)'>\\n\"\n",
    "    filetext += \"<!-- /graph.png -->\\n\"\n",
    "    \n",
    "    with open(phpfile, \"w\") as f:\n",
    "        f.write(filetext)\n",
    "    "
   ]
  },
  {
   "cell_type": "code",
   "execution_count": 7,
   "metadata": {},
   "outputs": [],
   "source": [
    "def json2js(sensor1):\n",
    "    jsonString = \"\\njsonData = JSON.stringify([\"\n",
    "    jsonString += str(sensor1)\n",
    "    jsonString += \"]);\\n\"\n",
    "\n",
    "    return jsonString"
   ]
  },
  {
   "cell_type": "code",
   "execution_count": 8,
   "metadata": {},
   "outputs": [],
   "source": [
    "def dbinsert(jdata, c):\n",
    "    if not (np.isnan(jdata[\"celsius\"]) \n",
    "            or np.isnan(jdata[\"humidity\"]) \n",
    "            or jdata[\"reservoir\"] > 40 \n",
    "            or jdata[\"ec\"] <= 0 ):\n",
    "        c.execute(\"INSERT INTO sensor1 VALUES \" + \n",
    "                  (\"('%s', %s, %s, %s, %s, %s, %s)\" \n",
    "                  % (jdata['time'], jdata[\"celsius\"], jdata[\"humidity\"], \n",
    "                     jdata[\"heat index\"], jdata[\"ph\"], jdata[\"ec\"], \n",
    "                     jdata[\"reservoir\"])))\n",
    "        return True\n",
    "\n",
    "    else:\n",
    "        print(\"%s\\tReceived garbage data from sensor\" % timestamp())\n",
    "        return False\n",
    "\n"
   ]
  },
  {
   "cell_type": "code",
   "execution_count": 9,
   "metadata": {},
   "outputs": [],
   "source": [
    "### Webserv ###\n",
    "class Slave(threading.Thread):\n",
    "    def run(self):\n",
    "        self.kill = False\n",
    "        self.ready = False\n",
    "        import http.server\n",
    "        Handler = http.server.SimpleHTTPRequestHandler\n",
    "        try:\n",
    "            httpd = socketserver.TCPServer(('0.0.0.0', PORT), Handler)\n",
    "        except OSError as e:\n",
    "            print (e)\n",
    "            print(\"%s\\tCaught socket exception, retrying...\" % timestamp())\n",
    "            time.sleep(10)\n",
    "            self.run()\n",
    "\n",
    "        self.ready = True\n",
    "\n",
    "        while not self.kill:  # work hard until seppuku \n",
    "            httpd.handle_request()\n",
    "\n",
    "        return"
   ]
  },
  {
   "cell_type": "code",
   "execution_count": 10,
   "metadata": {},
   "outputs": [],
   "source": [
    "def read_sensor():\n",
    "    try:\n",
    "        req = requests.get(sensor1ip)\n",
    "    except Exception as e:\n",
    "        print(e)\n",
    "        print(\"%s\\tAn unknown error occurred, retrying...\" % timestamp())\n",
    "        time.sleep(10)\n",
    "        return False\n",
    "\n",
    "    if req.status_code is 200:\n",
    "        jdata = req.json()\n",
    "        print(\"%s temp:%s   humidity:%s  heat index:%s\"\n",
    "              % (timestamp(), jdata[\"celsius\"],\n",
    "                 jdata[\"humidity\"], jdata[\"heat index\"]))\n",
    "        return jdata\n",
    "    else:\n",
    "        print(\"%s\\tUnknown status code %d, retrying...\"\n",
    "              % (timestamp(), req.status_code))\n",
    "        time.sleep(10)\n",
    "        return False"
   ]
  },
  {
   "cell_type": "code",
   "execution_count": 11,
   "metadata": {},
   "outputs": [],
   "source": [
    "def graph(c, debug=False, daterange=False):\n",
    "    \"\"\"\n",
    "    [(0, 'time', 'datetime', 0, None, 0),\n",
    "     (1, 'temp', 'float', 0, None, 0),\n",
    "     (2, 'humidity', 'float', 0, None, 0),\n",
    "     (3, 'heatindex', 'float', 0, None, 0),\n",
    "     (4, 'ph', 'float', 0, None, 0),\n",
    "     (5, 'ec', 'float', 0, None, 0),\n",
    "     (6, 'reservoir', 'float', 0, None, 0)]\n",
    "    \"\"\"\n",
    "\n",
    "    font = FontProperties()\n",
    "    font.set_family('monospace')\n",
    "    black = (0.0471,0.0701,0.0471)  # rgb\n",
    "    \n",
    "    if daterange is False:\n",
    "        query = (r\"SELECT * FROM sensor1 WHERE time BETWEEN \"\n",
    "                 + r\"datetime('now', 'localtime', '-1 days') AND \"\n",
    "                 + r\"datetime('now', 'localtime')\")\n",
    "    else:\n",
    "        query = (r\"SELECT * FROM sensor1 WHERE time BETWEEN \"\n",
    "                 + r\"datetime('now', 'localtime', '\" + str(daterange[0]) \n",
    "                 +\" days') AND \"\n",
    "                 + r\"datetime('now', 'localtime', '\" + str(daterange[1])\n",
    "                 + \" days')\")\n",
    "\n",
    "    c.execute(query)\n",
    "    res = np.array(c.fetchall())\n",
    "\n",
    "    if len(res) < 10:\n",
    "        print(\"%s\\tNot enough recent data to make graph\" % timestamp())\n",
    "        return\n",
    "\n",
    "    fig, axs = plt.subplots(4, 1, sharex=True, figsize=(8, 6))\n",
    "    plt.suptitle(\"Sensor Data (24h)\", y=1, fontproperties=font, fontsize=16, color=black)\n",
    "    plt.subplots_adjust(hspace=0.5, top=0.85, bottom=0.1)\n",
    "    dates = [DT.strptime(t, \"%Y-%m-%d %H:%M:%S\") for t in res[:,0]]\n",
    "    hours = mdates.HourLocator(interval=2)\n",
    "    mins = mdates.MinuteLocator(byminute=[0, 30])\n",
    "    fmt = mdates.DateFormatter(\"%H:%M\")\n",
    "    \n",
    "    axs[0].set_title(\"Temperature (*C)\", fontproperties=font, color=black)\n",
    "    axs[0].plot(dates, res[:, 1].astype(float), c=palette[3], label=\"Ambient\", zorder=5)\n",
    "    axs[0].fill_between(dates, res[:, 1].astype(float), alpha=0.5, color=palette[5], zorder=3)\n",
    "    axs[0].fill_between(dates, res[:, 1].astype(float), alpha=0.2, color=palette[3], zorder=4)\n",
    "    axs[0].plot(dates, res[:, 6].astype(float), c=palette[0], label=\"Reservoir\", zorder=2)\n",
    "    axs[0].fill_between(dates, res[:, 6].astype(float), alpha=0.27, color=palette[0], zorder=1)\n",
    "    l = axs[0].legend()\n",
    "    for text in l.get_texts():\n",
    "        text.set_color(\"#0C120C\")\n",
    "    axs[0].set_ylim(20, 27.5)\n",
    "    axs[1].set_title(\"Humidity (%)\", fontproperties=font, color=black)\n",
    "    axs[1].plot(dates, res[:, 2].astype(float), c=palette[0])\n",
    "    axs[1].fill_between(dates, res[:, 2].astype(float), alpha=0.27, color=palette[0])\n",
    "    axs[1].set_ylim(15, 80)\n",
    "    axs[2].set_title(\"Power of Hydrogen (pH)\", fontproperties=font, color=black)\n",
    "    axs[2].plot(dates, res[:, 4].astype(float), c=palette[1])\n",
    "    axs[2].fill_between(dates, res[:, 4].astype(float), alpha=0.24, color=palette[1])\n",
    "    axs[2].set_ylim(4,8)\n",
    "    axs[3].set_title(\"Conductivity (mS/cm)\", fontproperties=font, color=black)\n",
    "    axs[3].plot(dates, (res[:, 5].astype(float)), c=palette[2])\n",
    "    axs[3].fill_between(dates, res[:, 5].astype(float), alpha=0.2, color=palette[2])\n",
    "    axs[3].set_ylim(0, 2.25)\n",
    "    \n",
    "    for ax in axs:\n",
    "        ax.grid()\n",
    "        ax.xaxis.set_major_locator(hours)\n",
    "        ax.xaxis.set_major_formatter(fmt)\n",
    "        ax.xaxis.set_minor_locator(mins)\n",
    "        ax.set_facecolor(palette[5])\n",
    "        ax.tick_params(color=black, labelcolor=black)\n",
    "        for spine in ax.spines.values():\n",
    "            spine.set_edgecolor(black)\n",
    "\n",
    "    today = D.strftime(D.today(), \"%b %d, %Y\")\n",
    "    if debug:\n",
    "        plt.xlabel(\"Time (%s debug=True)\" % \n",
    "                   timestamp(), fontproperties=font, labelpad=20, color=black)\n",
    "    else:\n",
    "        plt.xlabel(\"Time (%s)\" % \n",
    "                   today, fontproperties=font, labelpad=20, color=black)\n",
    "    fig.autofmt_xdate()\n",
    "    fig.tight_layout(rect=[0, 0, 1, 0.94])\n",
    "    if debug:\n",
    "        plt.xlabel(\"Time (%s)\" % \n",
    "                   today, fontproperties=font, labelpad=20, color=black)\n",
    "        plt.show()\n",
    "    else:\n",
    "        plt.savefig(graphfile, facecolor=palette[5], edgecolor=\"red\", dpi=150)\n",
    "        plt.close()\n",
    "        writeJS(res, jsonfile)\n",
    "    \n",
    "    return"
   ]
  },
  {
   "cell_type": "code",
   "execution_count": 12,
   "metadata": {},
   "outputs": [],
   "source": [
    "#webslave = Slave()  # server to handle requests\n",
    "#webslave.start()  # new thread\n",
    "conn = sqlite3.connect(\"./sensordata.db\")\n",
    "c = conn.cursor()  # init db connection, pointer c"
   ]
  },
  {
   "cell_type": "code",
   "execution_count": 13,
   "metadata": {
    "scrolled": true
   },
   "outputs": [
    {
     "data": {
      "image/png": "[encoded data removed]",
      "text/plain": [
       "<Figure size 576x432 with 4 Axes>"
      ]
     },
     "metadata": {},
     "output_type": "display_data"
    }
   ],
   "source": [
    "# this function is called once every 15m in the script\n",
    "%matplotlib inline\n",
    "palette = ['xkcd:sea blue', 'xkcd:leaf green', '#efa00b',\n",
    "           '#d65108', '#591f0a', '#FFFFFF']\n",
    "graph(c, debug=True, daterange=[-281, -279]) "
   ]
  },
  {
   "cell_type": "code",
   "execution_count": 14,
   "metadata": {},
   "outputs": [],
   "source": [
    "### main loop ###\n",
    "def update(c, conn, webslave):\n",
    "    sensor_sleeptime = 0\n",
    "    graph_sleeptime = 0\n",
    "    \n",
    "    while(webslave.ready is False):\n",
    "        print(\"%s\\tWaiting for webslave...\" % timestamp())\n",
    "        time.sleep(10)\n",
    "\n",
    "    while (True):\n",
    "        jdata = read_sensor()\n",
    "        if jdata is False: continue\n",
    "\n",
    "        if not (np.isnan(jdata[\"celsius\"]) or np.isnan(jdata[\"humidity\"])):\n",
    "            c.execute(\"INSERT INTO sensor1 VALUES ('%s', %s, %s)\"\n",
    "                      % (timestamp(), jdata[\"celsius\"], jdata[\"humidity\"]))\n",
    "        else:\n",
    "            print(\"%s\\tReceived garbage data from sensor\" % timestamp())\n",
    "\n",
    "        if sensor_sleeptime == graph_sleeptime:\n",
    "            conn.commit()\n",
    "            graph(c)\n",
    "\n",
    "        t = time.time()\n",
    "        sensor_sleeptime = SENSOR_UPDATE_INTERVAL - ((t % SENSOR_UPDATE_INTERVAL))\n",
    "        graph_sleeptime = GRAPH_UPDATE_INTERVAL - ((t % GRAPH_UPDATE_INTERVAL))\n",
    "        time.sleep(sensor_sleeptime)"
   ]
  },
  {
   "cell_type": "markdown",
   "metadata": {},
   "source": [
    "# Run through the operations of update(c, conn, webslave)\n",
    "\n"
   ]
  },
  {
   "cell_type": "code",
   "execution_count": 73,
   "metadata": {},
   "outputs": [],
   "source": [
    "#print(webslave.ready)"
   ]
  },
  {
   "cell_type": "markdown",
   "metadata": {},
   "source": [
    "We can provide some fake data while the sensor is not transmitting\n",
    "Edit: recycle some old data instead"
   ]
  },
  {
   "cell_type": "raw",
   "metadata": {},
   "source": [
    "generate enough data for a crappy graph\n",
    "query = r\"DELETE FROM sensor1 WHERE time BETWEEN datetime('now', '-2 days') AND datetime('now', 'localtime')\"\n",
    "c.execute(query)\n",
    "\n",
    "for i in range(-24,0):\n",
    "    jdata = {'celsius': 22.50, \n",
    "         'humidity': 40.20, \n",
    "         'heat index': 40.00, \n",
    "         'ph': 5.80, \n",
    "         'ec': 1.50, \n",
    "         'reservoir': 21.375, \n",
    "         'ph raw voltage': 0.797754}\n",
    "    \n",
    "    for key in jdata.keys():\n",
    "        jdata[key] += np.sin(i-.5)\n",
    "    \n",
    "    jdata['time'] = timestamp(i) \n",
    "    #print(timestamp(i))\n",
    "    dbinsert(jdata, c)\n",
    "    \n",
    "conn.commit()"
   ]
  },
  {
   "cell_type": "code",
   "execution_count": 1,
   "metadata": {},
   "outputs": [],
   "source": [
    "# While the controller is not transmitting, lets call up some old data \n",
    "%matplotlib inline"
   ]
  },
  {
   "cell_type": "code",
   "execution_count": 20,
   "metadata": {},
   "outputs": [],
   "source": [
    "query = (r\"SELECT * FROM sensor1 WHERE time BETWEEN \"\n",
    "             + r\"datetime('now', 'localtime', '-365 days') AND \"\n",
    "             + r\"datetime('now', 'localtime')\")\n",
    "c.execute(query)\n",
    "res = np.array(c.fetchall())"
   ]
  },
  {
   "cell_type": "code",
   "execution_count": 147,
   "metadata": {},
   "outputs": [
    {
     "ename": "NameError",
     "evalue": "name 'res' is not defined",
     "output_type": "error",
     "traceback": [
      "\u001b[0;31m-------------------------------------------------------------------------\u001b[0m",
      "\u001b[0;31mNameError\u001b[0m                               Traceback (most recent call last)",
      "\u001b[0;32m<ipython-input-147-45e58e558557>\u001b[0m in \u001b[0;36m<module>\u001b[0;34m()\u001b[0m\n\u001b[0;32m----> 1\u001b[0;31m \u001b[0mres\u001b[0m\u001b[0;34m[\u001b[0m\u001b[0;36m0\u001b[0m\u001b[0;34m]\u001b[0m\u001b[0;34m\u001b[0m\u001b[0;34m\u001b[0m\u001b[0m\n\u001b[0m",
      "\u001b[0;31mNameError\u001b[0m: name 'res' is not defined"
     ]
    }
   ],
   "source": [
    "res[0]\n"
   ]
  },
  {
   "cell_type": "code",
   "execution_count": 96,
   "metadata": {},
   "outputs": [
    {
     "data": {
      "text/plain": [
       "1"
      ]
     },
     "execution_count": 96,
     "metadata": {},
     "output_type": "execute_result"
    }
   ],
   "source": [
    "min(min([1, 2, 5, 6], [3]))"
   ]
  },
  {
   "cell_type": "code",
   "execution_count": 74,
   "metadata": {},
   "outputs": [],
   "source": [
    "savefolder = r\"/home/matt/Desktop/notebook-container/greenbox/scriptoutput\"\n",
    "%matplotlib inline"
   ]
  },
  {
   "cell_type": "code",
   "execution_count": 126,
   "metadata": {},
   "outputs": [],
   "source": [
    "    def querygen(start=\"2018-03-20\", stop=\"2018-05-03\", interval=5):\n",
    "        \"\"\"\n",
    "        Step <- minutes\n",
    "        \"\"\"\n",
    "\n",
    "        start_tuple = time.strptime(start, '%Y-%m-%d')\n",
    "        start_epoch = int(time.mktime(start_tuple))\n",
    "        stop_tuple = time.strptime(stop, '%Y-%m-%d')\n",
    "        stop_epoch = int(time.mktime(stop_tuple))\n",
    "        step_epoch = (interval * 60)\n",
    "        \n",
    "        queries = []\n",
    "        epochs = []\n",
    "        \n",
    "        for step in range(start_epoch, stop_epoch, step_epoch):\n",
    "            nextstep = (step + (60 * 60 * 24))\n",
    "            queries.append(r\"SELECT * FROM sensor1 WHERE time BETWEEN \"\n",
    "                        + r\"datetime(\" + str(step) + \", 'unixepoch', 'localtime') AND \"\n",
    "                        + r\"datetime(\" + str(step) + \", 'unixepoch', 'localtime')\")\n",
    "            epochs.append(step)\n",
    "        \n",
    "        return np.array(queries), np.array(epochs)"
   ]
  },
  {
   "cell_type": "code",
   "execution_count": 148,
   "metadata": {},
   "outputs": [],
   "source": [
    "queries, epochs = querygen()"
   ]
  },
  {
   "cell_type": "code",
   "execution_count": 154,
   "metadata": {},
   "outputs": [
    {
     "name": "stdout",
     "output_type": "stream",
     "text": [
      "['2018-03-20 00:00:20', '2018-03-20 00:05:20', '2018-03-20 00:10:20', '2018-03-20 00:15:20', '2018-03-20 00:20:20', '2018-03-20 00:25:20', '2018-03-20 00:30:20', '2018-03-20 00:35:20', '2018-03-20 00:40:20', '2018-03-20 00:45:20']\n"
     ]
    }
   ],
   "source": [
    "dates = [time.strftime(\"%Y-%m-%d %H:%M:%d\", time.localtime(x)) for x in epochs]\n",
    "print(dates[0:10])"
   ]
  },
  {
   "cell_type": "code",
   "execution_count": 180,
   "metadata": {},
   "outputs": [
    {
     "name": "stdout",
     "output_type": "stream",
     "text": [
      "12672\n"
     ]
    }
   ],
   "source": [
    "print(f\"{len(queries):05d}\")"
   ]
  },
  {
   "cell_type": "code",
   "execution_count": 61,
   "metadata": {},
   "outputs": [],
   "source": [
    "def animate(c, start=\"2018-03-20\", stop=\"2018-05-03\", interval=72,\n",
    "            #savefolder=r\"/home/matt/Desktop/notebook-container/greenbox/scriptoutput\", \n",
    "            savefolder=r\"/var/www/html/projects/greenbox/scriptoutput\",\n",
    "            query=False, debug=False):\n",
    "    \"\"\"\n",
    "    [(0, 'time', 'datetime', 0, None, 0),\n",
    "     (1, 'temp', 'float', 0, None, 0),\n",
    "     (2, 'humidity', 'float', 0, None, 0),\n",
    "     (3, 'heatindex', 'float', 0, None, 0),\n",
    "     (4, 'ph', 'float', 0, None, 0),\n",
    "     (5, 'ec', 'float', 0, None, 0),\n",
    "     (6, 'reservoir', 'float', 0, None, 0)]\n",
    "    \"\"\"\n",
    "\n",
    "    font = FontProperties()\n",
    "    font.set_family('monospace')\n",
    "    black = (0.0471,0.0701,0.0471)  # rgb\n",
    "    \n",
    "    print(\"Querying...\")\n",
    "    \n",
    "    def querygen(start=\"2018-03-23\", stop=\"2018-04-07\", interval=30):\n",
    "        \"\"\"\n",
    "        Step <- minutes\n",
    "        \"\"\"\n",
    "\n",
    "        start_tuple = time.strptime(start, '%Y-%m-%d')\n",
    "        start_epoch = int(time.mktime(start_tuple))\n",
    "        stop_tuple = time.strptime(stop, '%Y-%m-%d')\n",
    "        stop_epoch = int(time.mktime(stop_tuple))\n",
    "        step_epoch = (interval * 60)\n",
    "        \n",
    "        queries = []\n",
    "        epochs = []\n",
    "        \n",
    "        for step in range(start_epoch, stop_epoch, step_epoch):\n",
    "            nextstep = (step + (60 * 60 * 24 * 3))\n",
    "            queries.append(r\"SELECT * FROM sensor1 WHERE time BETWEEN \"\n",
    "                        + r\"datetime(\" + str(step) + \", 'unixepoch', 'localtime') AND \"\n",
    "                        + r\"datetime(\" + str(nextstep) + \", 'unixepoch', 'localtime')\")\n",
    "            epochs.append(step)\n",
    "        \n",
    "        return np.array(queries), np.array(epochs)\n",
    "    \n",
    "    queries, epochs = querygen()\n",
    "    \n",
    "    for ix in range(len(queries)):\n",
    "        \n",
    "        #if ix > 10:\n",
    "        #    break\n",
    "        \n",
    "        graphfile = savefolder + r\"/\" + f\"{ix:05d}\" + \".png\"\n",
    "        c.execute(queries[ix])\n",
    "        res = np.array(c.fetchall())\n",
    "\n",
    "        if len(res) < (60 * 24 * 3 - 5):\n",
    "            #print(\"%s\\tNot enough recent data to make graph\" % timestamp())\n",
    "            print(str(len(res)) + \" < \" + str(60 * 24 * 3 - 5) + \", skipping \" + str(ix))\n",
    "            continue\n",
    "\n",
    "        fig, axs = plt.subplots(4, 1, sharex=True, figsize=(8, 6))\n",
    "        plt.suptitle(\"Sensor Data (24h)\", y=1, fontproperties=font, fontsize=16, color=black)\n",
    "        plt.subplots_adjust(hspace=0.5, top=0.85, bottom=0.1)\n",
    "        dates = [DT.strptime(t, \"%Y-%m-%d %H:%M:%S\") for t in res[:,0]]\n",
    "        #hours = mdates.HourLocator(interval=24)\n",
    "        #mins = mdates.MinuteLocator(byminute=[0, 30])\n",
    "        hours = mdates.DayLocator(bymonthday=[0, 7, 14, 21, 28])\n",
    "        mins = mdates.DayLocator()\n",
    "        #fmt = mdates.DateFormatter(\"%H:%M\")\n",
    "        fmt = mdates.DateFormatter(\"%Y-%m-%d\")\n",
    "\n",
    "        axs[0].set_title(\"Temperature (*C)\", fontproperties=font, color=black)\n",
    "        axs[0].plot(dates, res[:, 1].astype(float), c=palette[3], label=\"Ambient\", zorder=5)\n",
    "        axs[0].fill_between(dates, res[:, 1].astype(float), alpha=0.5, color=palette[5], zorder=3)\n",
    "        axs[0].fill_between(dates, res[:, 1].astype(float), alpha=0.2, color=palette[3], zorder=4)\n",
    "        axs[0].plot(dates, res[:, 6].astype(float), c=palette[0], label=\"Reservoir\", zorder=2)\n",
    "        axs[0].fill_between(dates, res[:, 6].astype(float), alpha=0.27, color=palette[0], zorder=1)\n",
    "        \n",
    "        \n",
    "        \n",
    "        #~~~~~~~~~~~~~~~~~~~~~~~~~~~~~~~~~~~~~~~~~~~~~~~~~~~~~~~~~~~~~~~~~\n",
    "        \n",
    "        \n",
    "        \n",
    "        l = axs[0].legend(bbox_to_anchor=[0.1, 0.5], loc=\"center\")\n",
    "        for text in l.get_texts():\n",
    "            text.set_color(\"#0C120C\")\n",
    "        axs[0].set_ylim(20, 27.5)\n",
    "        axs[1].set_title(\"Humidity (%)\", fontproperties=font, color=black)\n",
    "        axs[1].plot(dates, res[:, 2].astype(float), c=palette[0])\n",
    "        axs[1].fill_between(dates, res[:, 2].astype(float), alpha=0.27, color=palette[0])\n",
    "        axs[1].set_ylim(15, 80)\n",
    "        axs[2].set_title(\"Power of Hydrogen (pH)\", fontproperties=font, color=black)\n",
    "        axs[2].plot(dates, res[:, 4].astype(float), c=palette[1])\n",
    "        axs[2].fill_between(dates, res[:, 4].astype(float), alpha=0.24, color=palette[1])\n",
    "        axs[2].set_ylim(4,8)\n",
    "        axs[3].set_title(\"Conductivity (mS/cm)\", fontproperties=font, color=black)\n",
    "        axs[3].plot(dates, (res[:, 5].astype(float)), c=palette[2])\n",
    "        axs[3].fill_between(dates, res[:, 5].astype(float), alpha=0.2, color=palette[2])\n",
    "        axs[3].set_ylim(0, 3)\n",
    "\n",
    "        for ax in axs:\n",
    "            ax.grid()\n",
    "            ax.xaxis.set_major_locator(hours)\n",
    "            ax.xaxis.set_major_formatter(fmt)\n",
    "            ax.xaxis.set_minor_locator(mins)\n",
    "            ax.set_facecolor(palette[5])\n",
    "            ax.tick_params(color=black, labelcolor=black)\n",
    "            for spine in ax.spines.values():\n",
    "                spine.set_edgecolor(black)\n",
    "\n",
    "        #today = D.strftime(D.today(), \"%b %d, %Y\")\n",
    "        \n",
    "        today = time.strftime(\"%Y-%m-%d\", time.localtime(epochs[ix]))\n",
    "        \n",
    "        plt.xlabel(\"Time (%s)\" % today, fontproperties=font, labelpad=20, color=black)\n",
    "        fig.autofmt_xdate()\n",
    "        fig.tight_layout(rect=[0, 0, 1, 0.94])\n",
    "        print(\"saving \" + graphfile + \" / \" + f\"{len(queries)}\")\n",
    "        plt.savefig(graphfile, facecolor=palette[5], edgecolor=\"red\", dpi=150)\n",
    "        plt.close()\n",
    "    \n",
    "    return"
   ]
  },
  {
   "cell_type": "code",
   "execution_count": null,
   "metadata": {},
   "outputs": [],
   "source": [
    "import imageio"
   ]
  },
  {
   "cell_type": "code",
   "execution_count": 146,
   "metadata": {},
   "outputs": [
    {
     "name": "stdout",
     "output_type": "stream",
     "text": [
      "done\n"
     ]
    }
   ],
   "source": [
    "\n",
    "\n",
    "#batchAnimate(c)\n",
    "\n",
    "savefolder = r\"/var/www/html/projects/greenbox/scriptoutput/\"\n",
    "imgs = []\n",
    "for (dirpath, dirnames, filenames) in os.walk(savefolder):\n",
    "    imgs.extend(filenames)\n",
    "    break\n",
    "\n",
    "imgs.sort()\n",
    "outimgs = []\n",
    "for img in imgs:\n",
    "    img = savefolder + img\n",
    "    #print(img)\n",
    "    outimgs.append(imageio.imread(img))\n",
    "imageio.mimsave((savefolder + \"data.gif\"), outimgs, fps=20)\n",
    "print(\"done\")"
   ]
  },
  {
   "cell_type": "code",
   "execution_count": 144,
   "metadata": {},
   "outputs": [],
   "source": [
    "\n",
    "def batchAnimate(c, batchsize=4000,\n",
    "                #savefolder=r\"/home/matt/Desktop/notebook-container/greenbox/scriptoutput\", \n",
    "                savefolder=r\"/var/www/html/projects/greenbox/scriptoutput\",\n",
    "                query=False, debug=False):\n",
    "    \"\"\"\n",
    "    [(0, 'time', 'datetime', 0, None, 0),\n",
    "     (1, 'temp', 'float', 0, None, 0),\n",
    "     (2, 'humidity', 'float', 0, None, 0),\n",
    "     (3, 'heatindex', 'float', 0, None, 0),\n",
    "     (4, 'ph', 'float', 0, None, 0),\n",
    "     (5, 'ec', 'float', 0, None, 0),\n",
    "     (6, 'reservoir', 'float', 0, None, 0)]\n",
    "    \"\"\"\n",
    "\n",
    "    font = FontProperties()\n",
    "    font.set_family('monospace')\n",
    "    black = (0.0471,0.0701,0.0471)  # rgb\n",
    "    \n",
    "    print(\"Querying...\")\n",
    "    \n",
    "    query = (r\"SELECT * FROM sensor1\")# WHERE time BETWEEN \"\n",
    "   #             + r\"datetime(\" + str(step) + \", 'unixepoch', 'localtime') AND \"\n",
    "   #             + r\"datetime(\" + str(nextstep) + \", 'unixepoch', 'localtime')\")\n",
    "    c.execute(query)\n",
    "    result = np.array(c.fetchall())\n",
    "    \n",
    "    ixcounter = 0;\n",
    "    \n",
    "    for ix in range(0, len(result), int(batchsize/25)):\n",
    "        res = result[ix:ix+batchsize]\n",
    "        ixcounter += 1\n",
    "        \n",
    "        if ix > (44000 - 320):\n",
    "            break\n",
    "        \n",
    "        graphfile = savefolder + r\"/\" + f\"{ixcounter:05d}\" + \".png\"\n",
    "\n",
    "\n",
    "        if len(res) < (4000):\n",
    "            #print(\"%s\\tNot enough recent data to make graph\" % timestamp())\n",
    "            print(str(len(res)) + \" < \" + str(60 * 24 * 3 - 5) + \", skipping \" + graphfile)\n",
    "            continue\n",
    "\n",
    "        fig, axs = plt.subplots(4, 1, sharex=True, figsize=(8, 6))\n",
    "        plt.suptitle(\"Sensor Data\", y=1, fontproperties=font, fontsize=16, color=black)\n",
    "        plt.subplots_adjust(hspace=0.5, top=0.85, bottom=0.1)\n",
    "        dates = [DT.strptime(t, \"%Y-%m-%d %H:%M:%S\") for t in res[:,0]]\n",
    "        #hours = mdates.HourLocator(interval=24)\n",
    "        #mins = mdates.MinuteLocator(byminute=[0, 30])\n",
    "        hours = mdates.DayLocator()\n",
    "        mins = mdates.DayLocator()\n",
    "        #fmt = mdates.DateFormatter(\"%H:%M\")\n",
    "        fmt = mdates.DateFormatter(\"%Y-%m-%d\")\n",
    "\n",
    "        axs[0].set_title(\"Temperature (*C)\", fontproperties=font, color=black)\n",
    "        axs[0].plot(dates, res[:, 1].astype(float), c=palette[3], label=\"Ambient\", zorder=5)\n",
    "        axs[0].fill_between(dates, res[:, 1].astype(float), alpha=0.5, color=palette[5], zorder=3)\n",
    "        axs[0].fill_between(dates, res[:, 1].astype(float), alpha=0.2, color=palette[3], zorder=4)\n",
    "        axs[0].plot(dates, res[:, 6].astype(float), c=palette[0], label=\"Reservoir\", zorder=2)\n",
    "        axs[0].fill_between(dates, res[:, 6].astype(float), alpha=0.27, color=palette[0], zorder=1)\n",
    "        l = axs[0].legend(bbox_to_anchor=[0.1, 0.5], loc=\"center\")\n",
    "        for text in l.get_texts():\n",
    "            text.set_color(\"#0C120C\")\n",
    "        axs[0].set_ylim(20, 27.5)\n",
    "        axs[1].set_title(\"Humidity (%)\", fontproperties=font, color=black)\n",
    "        axs[1].plot(dates, res[:, 2].astype(float), c=palette[0])\n",
    "        axs[1].fill_between(dates, res[:, 2].astype(float), alpha=0.27, color=palette[0])\n",
    "        axs[1].set_ylim(15, 80)\n",
    "        axs[2].set_title(\"Power of Hydrogen (pH)\", fontproperties=font, color=black)\n",
    "        axs[2].plot(dates, res[:, 4].astype(float), c=palette[1])\n",
    "        axs[2].fill_between(dates, res[:, 4].astype(float), alpha=0.24, color=palette[1])\n",
    "        axs[2].set_ylim(4,8)\n",
    "        axs[3].set_title(\"Conductivity (mS/cm)\", fontproperties=font, color=black)\n",
    "        axs[3].plot(dates, (res[:, 5].astype(float)), c=palette[2])\n",
    "        axs[3].fill_between(dates, res[:, 5].astype(float), alpha=0.2, color=palette[2])\n",
    "        axs[3].set_ylim(0, 3)\n",
    "\n",
    "        for ax in axs:\n",
    "            ax.grid()\n",
    "#            ax.xaxis.set_major_locator(hours)\n",
    "            ax.xaxis.set_major_formatter(fmt)\n",
    "            ax.xaxis.set_minor_locator(mins)\n",
    "            ax.tick_params(labelbottom=False)\n",
    "            ax.set_facecolor(palette[5])\n",
    "            ax.tick_params(color=black, labelcolor=black)\n",
    "            for spine in ax.spines.values():\n",
    "                spine.set_edgecolor(black)\n",
    "                \n",
    "\n",
    "        #today = D.strftime(D.today(), \"%b %d, %Y\")\n",
    "        #print(res[0][0])\n",
    "        today = res[0][0][0:10]\n",
    "        #today = D.strftime(time.localtime(str(res[0][0])), \"%Y-%m-%d\")\n",
    "        \n",
    "        plt.xlabel(\"Time: week of %s\" % today, fontproperties=font, labelpad=20, color=black)\n",
    "        fig.autofmt_xdate()\n",
    "        fig.tight_layout(rect=[0, 0, 1, 0.94])\n",
    "        print(\"saving \" + graphfile)\n",
    "        plt.savefig(graphfile, facecolor=palette[5], edgecolor=\"red\", dpi=150)\n",
    "        plt.close()\n",
    "    \n",
    "    return"
   ]
  },
  {
   "cell_type": "code",
   "execution_count": 119,
   "metadata": {},
   "outputs": [],
   "source": [
    "    query = (r\"SELECT * FROM sensor1\")# WHERE time BETWEEN \"\n",
    "   #             + r\"datetime(\" + str(step) + \", 'unixepoch', 'localtime') AND \"\n",
    "   #             + r\"datetime(\" + str(nextstep) + \", 'unixepoch', 'localtime')\")\n",
    "    c.execute(query)\n",
    "    result = np.array(c.fetchall())\n",
    "    \n"
   ]
  },
  {
   "cell_type": "code",
   "execution_count": 138,
   "metadata": {},
   "outputs": [
    {
     "data": {
      "text/plain": [
       "'2018-04-14'"
      ]
     },
     "execution_count": 138,
     "metadata": {},
     "output_type": "execute_result"
    }
   ],
   "source": [
    "result[47000][0][0:10]"
   ]
  },
  {
   "cell_type": "code",
   "execution_count": null,
   "metadata": {},
   "outputs": [],
   "source": []
  }
 ],
 "metadata": {
  "kernelspec": {
   "display_name": "Python 3",
   "language": "python",
   "name": "python3"
  },
  "language_info": {
   "codemirror_mode": {
    "name": "ipython",
    "version": 3
   },
   "file_extension": ".py",
   "mimetype": "text/x-python",
   "name": "python",
   "nbconvert_exporter": "python",
   "pygments_lexer": "ipython3",
   "version": "3.6.7"
  }
 },
 "nbformat": 4,
 "nbformat_minor": 2
}
