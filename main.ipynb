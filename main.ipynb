{
 "cells": [
  {
   "cell_type": "code",
   "execution_count": 2,
   "metadata": {},
   "outputs": [],
   "source": [
    "from datetime import date as D\n",
    "from datetime import datetime as DT\n",
    "from datetime import timedelta\n",
    "from matplotlib.font_manager import FontProperties\n",
    "import matplotlib\n",
    "matplotlib.use('Agg')\n",
    "import matplotlib.pyplot as plt\n",
    "import matplotlib.dates as mdates\n",
    "import numpy as np\n",
    "import os\n",
    "import socketserver\n",
    "import sqlite3\n",
    "import sys\n",
    "import threading\n",
    "import time\n",
    "import urllib.request\n",
    "import requests"
   ]
  },
  {
   "cell_type": "code",
   "execution_count": 3,
   "metadata": {},
   "outputs": [],
   "source": [
    "### CONFIG ###\n",
    "PORT = 8000\n",
    "SENSOR_UPDATE_INTERVAL = 60  # seconds\n",
    "GRAPH_UPDATE_INTERVAL = 900  # 900s = 15m\n",
    "sensor1ip = 'http://192.168.4.1:42000'\n",
    "jsonfile = r\"/var/www/html/projects/greenbox/greenbox.js\"\n",
    "graphfile = r\"/var/www/html/projects/greenbox/graph.png\"\n",
    "palette = ['xkcd:sea blue', 'xkcd:leaf green', '#efa00b',\n",
    "           '#d65108', '#591f0a', '#F7F7F2']\n",
    "\n",
    "\n",
    "### some stuff ###\n",
    "plt.ioff()\n",
    "def timestamp(deltaHours=False): \n",
    "    if not deltaHours:\n",
    "        return time.strftime(\"%Y-%m-%d %H:%M:%S\") \n",
    "    else:\n",
    "        newtime = DT.now() + timedelta(hours=i)\n",
    "        return (newtime).strftime(\"%Y-%m-%d %H:%M:%S\")"
   ]
  },
  {
   "cell_type": "code",
   "execution_count": 4,
   "metadata": {},
   "outputs": [],
   "source": [
    "### Webserv ###\n",
    "class Slave(threading.Thread):\n",
    "    def run(self):\n",
    "        self.kill = False\n",
    "        self.ready = False\n",
    "        import http.server\n",
    "        Handler = http.server.SimpleHTTPRequestHandler\n",
    "        try:\n",
    "            httpd = socketserver.TCPServer(('0.0.0.0', PORT), Handler)\n",
    "        except OSError as e:\n",
    "            print (e)\n",
    "            print(\"%s\\tCaught socket exception, retrying...\" % timestamp())\n",
    "            time.sleep(10)\n",
    "            self.run()\n",
    "\n",
    "        self.ready = True\n",
    "\n",
    "        while not self.kill:  # work hard until seppuku \n",
    "            httpd.handle_request()\n",
    "\n",
    "        return"
   ]
  },
  {
   "cell_type": "code",
   "execution_count": 5,
   "metadata": {},
   "outputs": [],
   "source": [
    "def json2js(sensor1):\n",
    "    jsonString = \"jsonData = JSON.stringify([\"\n",
    "    jsonString += str(sensor1)\n",
    "    jsonString += \"]);\"\n",
    "\n",
    "    return jsonString"
   ]
  },
  {
   "cell_type": "code",
   "execution_count": 6,
   "metadata": {},
   "outputs": [],
   "source": [
    "### Sensor related functions ###\n",
    "def read_sensor():\n",
    "    try:\n",
    "        req = requests.get(sensor1ip)\n",
    "    except Exception as e:\n",
    "        print(e)\n",
    "        print(\"%s\\tAn unknown error occurred, retrying...\" % timestamp())\n",
    "        time.sleep(10)\n",
    "        return False\n",
    "\n",
    "    if req.status_code is 200:\n",
    "        jdata = req.json()\n",
    "        print(\"%s temp:%s   humidity:%s  heat index:%s\"\n",
    "              % (timestamp(), jdata[\"celsius\"],\n",
    "                 jdata[\"humidity\"], jdata[\"heat index\"]))\n",
    "        return jdata\n",
    "    else:\n",
    "        print(\"%s\\tUnknown status code %d, retrying...\"\n",
    "              % (timestamp(), req.status_code))\n",
    "        time.sleep(10)\n",
    "        return False"
   ]
  },
  {
   "cell_type": "code",
   "execution_count": 7,
   "metadata": {},
   "outputs": [],
   "source": [
    "def dbinsert(jdata, c):\n",
    "    if not (np.isnan(jdata[\"celsius\"]) \n",
    "            or np.isnan(jdata[\"humidity\"]) \n",
    "            or jdata[\"reservoir\"] > 40 \n",
    "            or jdata[\"ec\"] <= 0 ):\n",
    "        c.execute(\"INSERT INTO sensor1 VALUES \" + \n",
    "                  (\"('%s', %s, %s, %s, %s, %s, %s)\" \n",
    "                  % (jdata['time'], jdata[\"celsius\"], jdata[\"humidity\"], \n",
    "                     jdata[\"heat index\"], jdata[\"ph\"], jdata[\"ec\"], \n",
    "                     jdata[\"reservoir\"])))\n",
    "        return True\n",
    "\n",
    "    else:\n",
    "        print(\"%s\\tReceived garbage data from sensor\" % timestamp())\n",
    "        return False\n",
    "\n"
   ]
  },
  {
   "cell_type": "code",
   "execution_count": 8,
   "metadata": {},
   "outputs": [],
   "source": [
    "def graph(c, debug=False):\n",
    "    \"\"\"\n",
    "    [(0, 'time', 'datetime', 0, None, 0),\n",
    "     (1, 'temp', 'float', 0, None, 0),\n",
    "     (2, 'humidity', 'float', 0, None, 0),\n",
    "     (3, 'heatindex', 'float', 0, None, 0),\n",
    "     (4, 'ph', 'float', 0, None, 0),\n",
    "     (5, 'ec', 'float', 0, None, 0),\n",
    "     (6, 'reservoir', 'float', 0, None, 0)]\n",
    "    \"\"\"\n",
    "\n",
    "    font = FontProperties()\n",
    "    font.set_family('monospace')\n",
    "    \n",
    "    query = (r\"SELECT * FROM sensor1 WHERE time BETWEEN \"\n",
    "             + r\"datetime('now', 'localtime', '-1 days') AND \"\n",
    "             + r\"datetime('now', 'localtime')\")\n",
    "    c.execute(query)\n",
    "    res = np.array(c.fetchall())\n",
    "\n",
    "    if len(res) < 10:\n",
    "        print(\"%s\\tNot enough recent data to make graph\" % timestamp())\n",
    "        return\n",
    "\n",
    "    fig, axs = plt.subplots(4, 1, sharex=True, figsize=(8, 6))\n",
    "    #fig.patch.set_facecolor(palette[5])\n",
    "    plt.suptitle(\"Sensor Data (24h)\", fontproperties=font)\n",
    "    plt.subplots_adjust(hspace=0.5, top=0.85, bottom=0.1)\n",
    "    dates = [DT.strptime(t, \"%Y-%m-%d %H:%M:%S\") for t in res[:,0]]\n",
    "    hours = mdates.HourLocator(interval=2)\n",
    "    mins = mdates.MinuteLocator(byminute=[0, 30])\n",
    "    fmt = mdates.DateFormatter(\"%H:%M\")\n",
    "    \n",
    "    axs[0].set_title(\"Temperature (*C)\", fontproperties=font)\n",
    "    axs[0].plot(dates, res[:, 1].astype(float), c=palette[3], label=\"Ambient\")\n",
    "    axs[0].plot(dates, res[:, 6].astype(float), c=palette[0], label=\"Reservoir\")\n",
    "    axs[0].legend()\n",
    "    axs[1].set_title(\"Humidity (%)\", fontproperties=font)\n",
    "    axs[1].plot(dates, res[:, 2].astype(float), c=palette[0])\n",
    "    axs[2].set_title(\"Power of Hydrogen (pH)\", fontproperties=font)\n",
    "    axs[2].plot(dates, res[:, 4].astype(float), c=palette[1])    \n",
    "    axs[3].set_title(\"Conductivity (mS/cm)\", fontproperties=font)\n",
    "    axs[3].plot(dates, (res[:, 5].astype(float)), c=palette[2])\n",
    "    \n",
    "    for ax in axs:\n",
    "        ax.grid()\n",
    "        ax.xaxis.set_major_locator(hours)\n",
    "        ax.xaxis.set_major_formatter(fmt)\n",
    "        ax.xaxis.set_minor_locator(mins)\n",
    "        ax.set_facecolor(palette[5])\n",
    "\n",
    "    today = D.strftime(D.today(), \"%m-%d\")\n",
    "    if debug:\n",
    "        plt.xlabel(\"Time (%s debug=True)\" % timestamp(), fontproperties=font)\n",
    "    else:\n",
    "        plt.xlabel(\"Time (%s)\" % today, fontproperties=font)\n",
    "    fig.autofmt_xdate()\n",
    "    #plt.show()\n",
    "    #os.rename(graphfile, (graphfile[:-4]+\".old.png\"))\n",
    "    plt.savefig(graphfile, facecolor=palette[5], edgecolor=\"red\")\n",
    "    plt.close()\n",
    "    \n",
    "    writeJS(jsonfile)\n",
    "\n",
    "    return"
   ]
  },
  {
   "cell_type": "code",
   "execution_count": 9,
   "metadata": {},
   "outputs": [],
   "source": [
    "def writeJS(jsonfile):\n",
    "    #jsfile = r\"/var/www/html/projects/greenbox/greenbox.js\"\n",
    "    \n",
    "    filetext = \"var imgtag = \\\"<img src='graph.png?\"\n",
    "    filetext += str(int(time.time()))\n",
    "    filetext += \"' alt='Sensor Data (24h)'></img>\\\"\\n\"\n",
    "    filetext += \"document.getElementById('graphImg').innerHTML = imgtag\\n\"\n",
    "    \n",
    "    with open (jsonfile, \"w\") as f:\n",
    "        f.write(filetext)"
   ]
  },
  {
   "cell_type": "code",
   "execution_count": 10,
   "metadata": {},
   "outputs": [],
   "source": [
    "### main loop ###\n",
    "def update(c, conn, webslave):\n",
    "\n",
    "    loopcounter = 0\n",
    "    while(webslave.ready is False):\n",
    "        print(\"%s\\tWaiting for webslave...\" % timestamp())\n",
    "        time.sleep(10)\n",
    "\n",
    "    sensor_sleeptime = 0\n",
    "    graph_sleeptime = 0\n",
    "\n",
    "    while (True):\n",
    "\n",
    "        jdata = read_sensor()\n",
    "        \n",
    "        if jdata is False: continue\n",
    "\n",
    "        with open(indexfile, 'w') as f:\n",
    "            f.write(fmt_html(jdata))\n",
    "\n",
    "        if not (np.isnan(jdata[\"celsius\"]) or np.isnan(jdata[\"humidity\"])):\n",
    "            c.execute(\"INSERT INTO sensor1 VALUES ('%s', %s, %s)\"\n",
    "                      % (timestamp(), jdata[\"celsius\"], jdata[\"humidity\"]))\n",
    "            \n",
    "        else:\n",
    "            print(\"%s\\tReceived garbage data from sensor\" % timestamp())\n",
    "\n",
    "        loopcounter += 1\n",
    "\n",
    "        if sensor_sleeptime == graph_sleeptime:\n",
    "            conn.commit()\n",
    "            graph(c)\n",
    "\n",
    "        t = time.time()\n",
    "        sensor_sleeptime = SENSOR_UPDATE_INTERVAL - ((t % SENSOR_UPDATE_INTERVAL))\n",
    "        graph_sleeptime = GRAPH_UPDATE_INTERVAL - ((t % GRAPH_UPDATE_INTERVAL))\n",
    "        time.sleep(sensor_sleeptime)"
   ]
  },
  {
   "cell_type": "code",
   "execution_count": 11,
   "metadata": {},
   "outputs": [],
   "source": [
    "#webslave = Slave()  # server to handle requests\n",
    "#webslave.start()  # new thread\n",
    "conn = sqlite3.connect(\"./sensordata.db\")\n",
    "c = conn.cursor()  # init db connection, pointer c"
   ]
  },
  {
   "cell_type": "markdown",
   "metadata": {},
   "source": [
    "# Run through the operations of update(c, conn, webslave)\n",
    "\n"
   ]
  },
  {
   "cell_type": "code",
   "execution_count": 12,
   "metadata": {},
   "outputs": [],
   "source": [
    "#print(webslave.ready)"
   ]
  },
  {
   "cell_type": "markdown",
   "metadata": {},
   "source": [
    "We can provide some fake data while the sensor is not transmitting"
   ]
  },
  {
   "cell_type": "code",
   "execution_count": 13,
   "metadata": {
    "scrolled": false
   },
   "outputs": [
    {
     "name": "stdout",
     "output_type": "stream",
     "text": [
      "jsonData = JSON.stringify([{'celsius': 22.5, 'humidity': 40.2, 'heat index': 40.0, 'ph': 5.8, 'ec': 1.5, 'reservoir': 21.375, 'ph raw voltage': 0.797754}]);\n"
     ]
    }
   ],
   "source": [
    "#jdata = read_sensor()\n",
    "jdata = {'celsius': 22.50, \n",
    "         'humidity': 40.20, \n",
    "         'heat index': 40.00, \n",
    "         'ph': 5.80, \n",
    "         'ec': 1.50, \n",
    "         'reservoir': 21.375, \n",
    "         'ph raw voltage': 0.797754}\n",
    "\n",
    "print(json2js(jdata))"
   ]
  },
  {
   "cell_type": "markdown",
   "metadata": {},
   "source": [
    "write out the json data to json.js in the server directory.\n",
    "it could be cool to provide js data webhooks later on "
   ]
  },
  {
   "cell_type": "code",
   "execution_count": 14,
   "metadata": {},
   "outputs": [
    {
     "name": "stdout",
     "output_type": "stream",
     "text": [
      "2018-11-17 17:53:36\n",
      "2018-11-17 18:53:36\n",
      "2018-11-17 19:53:36\n",
      "2018-11-17 20:53:36\n",
      "2018-11-17 21:53:36\n",
      "2018-11-17 22:53:36\n",
      "2018-11-17 23:53:36\n",
      "2018-11-18 00:53:36\n",
      "2018-11-18 01:53:36\n",
      "2018-11-18 02:53:36\n",
      "2018-11-18 03:53:36\n",
      "2018-11-18 04:53:36\n",
      "2018-11-18 05:53:36\n",
      "2018-11-18 06:53:36\n",
      "2018-11-18 07:53:36\n",
      "2018-11-18 08:53:36\n",
      "2018-11-18 09:53:36\n",
      "2018-11-18 10:53:36\n",
      "2018-11-18 11:53:36\n",
      "2018-11-18 12:53:36\n",
      "2018-11-18 13:53:36\n",
      "2018-11-18 14:53:36\n",
      "2018-11-18 15:53:36\n",
      "2018-11-18 16:53:36\n"
     ]
    }
   ],
   "source": [
    "# generate enough data for a crappy graph\n",
    "query = r\"DELETE FROM sensor1 WHERE time BETWEEN datetime('now', '-2 days') AND datetime('now', 'localtime')\"\n",
    "c.execute(query)\n",
    "\n",
    "for i in range(-24,0):\n",
    "    jdata = {'celsius': 22.50, \n",
    "         'humidity': 40.20, \n",
    "         'heat index': 40.00, \n",
    "         'ph': 5.80, \n",
    "         'ec': 1.50, \n",
    "         'reservoir': 21.375, \n",
    "         'ph raw voltage': 0.797754}\n",
    "    \n",
    "    for key in jdata.keys():\n",
    "        jdata[key] += np.sin(i-.5)\n",
    "    \n",
    "    jdata['time'] = timestamp(i) \n",
    "    #print(timestamp(i))\n",
    "    dbinsert(jdata, c)\n",
    "    \n",
    "conn.commit()"
   ]
  },
  {
   "cell_type": "code",
   "execution_count": 15,
   "metadata": {},
   "outputs": [],
   "source": [
    "graph(c, debug=True)"
   ]
  },
  {
   "cell_type": "code",
   "execution_count": null,
   "metadata": {},
   "outputs": [],
   "source": [
    "query = (r\"SELECT * FROM sensor1 WHERE time BETWEEN \"\n",
    "             + r\"datetime('now', 'localtime', '-10 days') AND \"\n",
    "             + r\"datetime('now', 'localtime')\")\n",
    "c.execute(query)\n",
    "res = np.array(c.fetchall())"
   ]
  },
  {
   "cell_type": "code",
   "execution_count": null,
   "metadata": {},
   "outputs": [],
   "source": [
    "dict(res)"
   ]
  },
  {
   "cell_type": "code",
   "execution_count": null,
   "metadata": {},
   "outputs": [],
   "source": [
    "res[0]"
   ]
  }
 ],
 "metadata": {
  "kernelspec": {
   "display_name": "Python 3",
   "language": "python",
   "name": "python3"
  },
  "language_info": {
   "codemirror_mode": {
    "name": "ipython",
    "version": 3
   },
   "file_extension": ".py",
   "mimetype": "text/x-python",
   "name": "python",
   "nbconvert_exporter": "python",
   "pygments_lexer": "ipython3",
   "version": "3.6.6"
  }
 },
 "nbformat": 4,
 "nbformat_minor": 2
}
