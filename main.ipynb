{
 "cells": [
  {
   "cell_type": "code",
   "execution_count": 1,
   "metadata": {},
   "outputs": [],
   "source": [
    "from datetime import date as D\n",
    "from datetime import datetime as DT\n",
    "from datetime import timedelta\n",
    "from matplotlib.font_manager import FontProperties\n",
    "import matplotlib\n",
    "matplotlib.use('Agg')\n",
    "import matplotlib.pyplot as plt\n",
    "import matplotlib.dates as mdates\n",
    "import numpy as np\n",
    "import os\n",
    "import socketserver\n",
    "import sqlite3\n",
    "import sys\n",
    "import threading\n",
    "import time\n",
    "import urllib.request\n",
    "import requests"
   ]
  },
  {
   "cell_type": "code",
   "execution_count": 2,
   "metadata": {},
   "outputs": [],
   "source": [
    "### CONFIG ###\n",
    "PORT = 8000\n",
    "SENSOR_UPDATE_INTERVAL = 60  # seconds\n",
    "GRAPH_UPDATE_INTERVAL = 900  # 900s = 15m\n",
    "sensor1ip = 'http://192.168.4.1:42000'\n",
    "jsonfile = r\"/var/www/html/projects/greenbox/greenbox.js\"\n",
    "graphfile = r\"/var/www/html/projects/greenbox/graph.png\"\n",
    "palette = ['xkcd:sea blue', 'xkcd:leaf green', '#efa00b',\n",
    "           '#d65108', '#591f0a', '#F7F7F2']\n",
    "\n",
    "\n",
    "### some stuff ###\n",
    "# plt.ioff()\n"
   ]
  },
  {
   "cell_type": "code",
   "execution_count": null,
   "metadata": {},
   "outputs": [],
   "source": [
    "def timestamp(deltaHours=False): \n",
    "    if not deltaHours:\n",
    "        return time.strftime(\"%Y-%m-%d %H:%M:%S\") \n",
    "    else:\n",
    "        newtime = DT.now() + timedelta(hours=i)\n",
    "        return (newtime).strftime(\"%Y-%m-%d %H:%M:%S\")"
   ]
  },
  {
   "cell_type": "code",
   "execution_count": 8,
   "metadata": {},
   "outputs": [],
   "source": [
    "def writeJS(res, jsonfile):\n",
    "    filetext = \"var imgtag = \\\"<img src='graph.png?\"\n",
    "    filetext += str(int(time.time()))\n",
    "    filetext += \"' alt='Sensor Data (24h)'></img>\\\"\\n\"\n",
    "    filetext += \"document.getElementById('graphImg').innerHTML = imgtag\\n\"\n",
    "    \n",
    "    jsonStream = {x[0] : list(x[1:]) for x in res}\n",
    "    filetext += json2js(jsonStream)\n",
    "    \n",
    "    with open (jsonfile, \"w\") as f:\n",
    "        f.write(filetext)"
   ]
  },
  {
   "cell_type": "code",
   "execution_count": 4,
   "metadata": {},
   "outputs": [],
   "source": [
    "def json2js(sensor1):\n",
    "    jsonString = \"\\njsonData = JSON.stringify([\"\n",
    "    jsonString += str(sensor1)\n",
    "    jsonString += \"]);\\n\"\n",
    "\n",
    "    return jsonString"
   ]
  },
  {
   "cell_type": "code",
   "execution_count": 6,
   "metadata": {},
   "outputs": [],
   "source": [
    "def dbinsert(jdata, c):\n",
    "    if not (np.isnan(jdata[\"celsius\"]) \n",
    "            or np.isnan(jdata[\"humidity\"]) \n",
    "            or jdata[\"reservoir\"] > 40 \n",
    "            or jdata[\"ec\"] <= 0 ):\n",
    "        c.execute(\"INSERT INTO sensor1 VALUES \" + \n",
    "                  (\"('%s', %s, %s, %s, %s, %s, %s)\" \n",
    "                  % (jdata['time'], jdata[\"celsius\"], jdata[\"humidity\"], \n",
    "                     jdata[\"heat index\"], jdata[\"ph\"], jdata[\"ec\"], \n",
    "                     jdata[\"reservoir\"])))\n",
    "        return True\n",
    "\n",
    "    else:\n",
    "        print(\"%s\\tReceived garbage data from sensor\" % timestamp())\n",
    "        return False\n",
    "\n"
   ]
  },
  {
   "cell_type": "code",
   "execution_count": 3,
   "metadata": {},
   "outputs": [],
   "source": [
    "### Webserv ###\n",
    "class Slave(threading.Thread):\n",
    "    def run(self):\n",
    "        self.kill = False\n",
    "        self.ready = False\n",
    "        import http.server\n",
    "        Handler = http.server.SimpleHTTPRequestHandler\n",
    "        try:\n",
    "            httpd = socketserver.TCPServer(('0.0.0.0', PORT), Handler)\n",
    "        except OSError as e:\n",
    "            print (e)\n",
    "            print(\"%s\\tCaught socket exception, retrying...\" % timestamp())\n",
    "            time.sleep(10)\n",
    "            self.run()\n",
    "\n",
    "        self.ready = True\n",
    "\n",
    "        while not self.kill:  # work hard until seppuku \n",
    "            httpd.handle_request()\n",
    "\n",
    "        return"
   ]
  },
  {
   "cell_type": "code",
   "execution_count": 5,
   "metadata": {},
   "outputs": [],
   "source": [
    "def read_sensor():\n",
    "    try:\n",
    "        req = requests.get(sensor1ip)\n",
    "    except Exception as e:\n",
    "        print(e)\n",
    "        print(\"%s\\tAn unknown error occurred, retrying...\" % timestamp())\n",
    "        time.sleep(10)\n",
    "        return False\n",
    "\n",
    "    if req.status_code is 200:\n",
    "        jdata = req.json()\n",
    "        print(\"%s temp:%s   humidity:%s  heat index:%s\"\n",
    "              % (timestamp(), jdata[\"celsius\"],\n",
    "                 jdata[\"humidity\"], jdata[\"heat index\"]))\n",
    "        return jdata\n",
    "    else:\n",
    "        print(\"%s\\tUnknown status code %d, retrying...\"\n",
    "              % (timestamp(), req.status_code))\n",
    "        time.sleep(10)\n",
    "        return False"
   ]
  },
  {
   "cell_type": "code",
   "execution_count": 59,
   "metadata": {},
   "outputs": [],
   "source": [
    "def graph(c, debug=False, daterange=False):\n",
    "    \"\"\"\n",
    "    [(0, 'time', 'datetime', 0, None, 0),\n",
    "     (1, 'temp', 'float', 0, None, 0),\n",
    "     (2, 'humidity', 'float', 0, None, 0),\n",
    "     (3, 'heatindex', 'float', 0, None, 0),\n",
    "     (4, 'ph', 'float', 0, None, 0),\n",
    "     (5, 'ec', 'float', 0, None, 0),\n",
    "     (6, 'reservoir', 'float', 0, None, 0)]\n",
    "    \"\"\"\n",
    "\n",
    "    font = FontProperties()\n",
    "    font.set_family('monospace')\n",
    "    \n",
    "\n",
    "    if daterange is False:\n",
    "        query = (r\"SELECT * FROM sensor1 WHERE time BETWEEN \"\n",
    "                 + r\"datetime('now', 'localtime', '-1 days') AND \"\n",
    "                 + r\"datetime('now', 'localtime')\")\n",
    "    else:\n",
    "        query = (r\"SELECT * FROM sensor1 WHERE time BETWEEN \"\n",
    "                 + r\"datetime('now', 'localtime', '\" + str(daterange[0]) \n",
    "                 +\" days') AND \"\n",
    "                 + r\"datetime('now', 'localtime', '\" + str(daterange[1])\n",
    "                 + \" days')\")\n",
    "\n",
    "    c.execute(query)\n",
    "    res = np.array(c.fetchall())\n",
    "\n",
    "    if len(res) < 10:\n",
    "        print(\"%s\\tNot enough recent data to make graph\" % timestamp())\n",
    "        return\n",
    "\n",
    "    fig, axs = plt.subplots(4, 1, sharex=True, figsize=(8, 6))\n",
    "    #fig.patch.set_facecolor(palette[5])\n",
    "    plt.suptitle(\"Sensor Data (24h)\", fontproperties=font)\n",
    "    plt.subplots_adjust(hspace=0.5, top=0.85, bottom=0.1)\n",
    "    dates = [DT.strptime(t, \"%Y-%m-%d %H:%M:%S\") for t in res[:,0]]\n",
    "    hours = mdates.HourLocator(interval=2)\n",
    "    mins = mdates.MinuteLocator(byminute=[0, 30])\n",
    "    fmt = mdates.DateFormatter(\"%H:%M\")\n",
    "    \n",
    "    axs[0].set_title(\"Temperature (*C)\", fontproperties=font)\n",
    "    axs[0].plot(dates, res[:, 1].astype(float), c=palette[3], label=\"Ambient\")\n",
    "    axs[0].plot(dates, res[:, 6].astype(float), c=palette[0], label=\"Reservoir\")\n",
    "    axs[0].legend()\n",
    "    axs[1].set_title(\"Humidity (%)\", fontproperties=font)\n",
    "    axs[1].plot(dates, res[:, 2].astype(float), c=palette[0])\n",
    "    axs[1].fill_between(dates, res[:, 2].astype(float), alpha=0.2, color=palette[0])\n",
    "    axs[2].set_title(\"Power of Hydrogen (pH)\", fontproperties=font)\n",
    "    axs[2].plot(dates, res[:, 4].astype(float), c=palette[1])\n",
    "    axs[2].fill_between(dates, res[:, 4].astype(float), alpha=0.2, color=palette[1])\n",
    "    axs[2].set_ylim([4,8])\n",
    "    axs[3].set_title(\"Conductivity (mS/cm)\", fontproperties=font)\n",
    "    axs[3].plot(dates, (res[:, 5].astype(float)), c=palette[2])\n",
    "    axs[3].fill_between(dates, res[:, 5].astype(float), alpha=0.2, color=palette[2])\n",
    "    \n",
    "    for ax in axs:\n",
    "        ax.grid()\n",
    "        ax.xaxis.set_major_locator(hours)\n",
    "        ax.xaxis.set_major_formatter(fmt)\n",
    "        ax.xaxis.set_minor_locator(mins)\n",
    "        ax.set_facecolor(palette[5])\n",
    "\n",
    "    today = D.strftime(D.today(), \"%m-%d\")\n",
    "    if debug:\n",
    "        plt.xlabel(\"Time (%s debug=True)\" % timestamp(), fontproperties=font)\n",
    "    else:\n",
    "        plt.xlabel(\"Time (%s)\" % today, fontproperties=font)\n",
    "    fig.autofmt_xdate()\n",
    "    \n",
    "    if debug:\n",
    "        plt.show()\n",
    "    else:\n",
    "        plt.savefig(graphfile, facecolor=palette[5], edgecolor=\"red\")\n",
    "        plt.close()\n",
    "        writeJS(res, jsonfile)\n",
    "    \n",
    "    return"
   ]
  },
  {
   "cell_type": "code",
   "execution_count": 9,
   "metadata": {},
   "outputs": [],
   "source": [
    "### main loop ###\n",
    "def update(c, conn, webslave):\n",
    "    sensor_sleeptime = 0\n",
    "    graph_sleeptime = 0\n",
    "    \n",
    "    while(webslave.ready is False):\n",
    "        print(\"%s\\tWaiting for webslave...\" % timestamp())\n",
    "        time.sleep(10)\n",
    "\n",
    "    while (True):\n",
    "        jdata = read_sensor()\n",
    "        if jdata is False: continue\n",
    "\n",
    "        if not (np.isnan(jdata[\"celsius\"]) or np.isnan(jdata[\"humidity\"])):\n",
    "            c.execute(\"INSERT INTO sensor1 VALUES ('%s', %s, %s)\"\n",
    "                      % (timestamp(), jdata[\"celsius\"], jdata[\"humidity\"]))\n",
    "        else:\n",
    "            print(\"%s\\tReceived garbage data from sensor\" % timestamp())\n",
    "\n",
    "        if sensor_sleeptime == graph_sleeptime:\n",
    "            conn.commit()\n",
    "            graph(c)\n",
    "\n",
    "        t = time.time()\n",
    "        sensor_sleeptime = SENSOR_UPDATE_INTERVAL - ((t % SENSOR_UPDATE_INTERVAL))\n",
    "        graph_sleeptime = GRAPH_UPDATE_INTERVAL - ((t % GRAPH_UPDATE_INTERVAL))\n",
    "        time.sleep(sensor_sleeptime)"
   ]
  },
  {
   "cell_type": "code",
   "execution_count": 10,
   "metadata": {},
   "outputs": [],
   "source": [
    "#webslave = Slave()  # server to handle requests\n",
    "#webslave.start()  # new thread\n",
    "conn = sqlite3.connect(\"./sensordata.db\")\n",
    "c = conn.cursor()  # init db connection, pointer c"
   ]
  },
  {
   "cell_type": "markdown",
   "metadata": {},
   "source": [
    "# Run through the operations of update(c, conn, webslave)\n",
    "\n"
   ]
  },
  {
   "cell_type": "code",
   "execution_count": 11,
   "metadata": {},
   "outputs": [],
   "source": [
    "#print(webslave.ready)"
   ]
  },
  {
   "cell_type": "markdown",
   "metadata": {},
   "source": [
    "We can provide some fake data while the sensor is not transmitting"
   ]
  },
  {
   "cell_type": "code",
   "execution_count": 12,
   "metadata": {
    "scrolled": false
   },
   "outputs": [
    {
     "name": "stdout",
     "output_type": "stream",
     "text": [
      "\n",
      "jsonData = JSON.stringify([{'celsius': 22.5, 'humidity': 40.2, 'heat index': 40.0, 'ph': 5.8, 'ec': 1.5, 'reservoir': 21.375, 'ph raw voltage': 0.797754}]);\n",
      "\n"
     ]
    }
   ],
   "source": [
    "#jdata = read_sensor()\n",
    "jdata = {'celsius': 22.50, \n",
    "         'humidity': 40.20, \n",
    "         'heat index': 40.00, \n",
    "         'ph': 5.80, \n",
    "         'ec': 1.50, \n",
    "         'reservoir': 21.375, \n",
    "         'ph raw voltage': 0.797754}\n",
    "\n",
    "print(json2js(jdata))"
   ]
  },
  {
   "cell_type": "markdown",
   "metadata": {},
   "source": [
    "write out the json data to json.js in the server directory.\n",
    "it could be cool to provide js data webhooks later on "
   ]
  },
  {
   "cell_type": "code",
   "execution_count": 13,
   "metadata": {},
   "outputs": [],
   "source": [
    "# generate enough data for a crappy graph\n",
    "query = r\"DELETE FROM sensor1 WHERE time BETWEEN datetime('now', '-2 days') AND datetime('now', 'localtime')\"\n",
    "c.execute(query)\n",
    "\n",
    "for i in range(-24,0):\n",
    "    jdata = {'celsius': 22.50, \n",
    "         'humidity': 40.20, \n",
    "         'heat index': 40.00, \n",
    "         'ph': 5.80, \n",
    "         'ec': 1.50, \n",
    "         'reservoir': 21.375, \n",
    "         'ph raw voltage': 0.797754}\n",
    "    \n",
    "    for key in jdata.keys():\n",
    "        jdata[key] += np.sin(i-.5)\n",
    "    \n",
    "    jdata['time'] = timestamp(i) \n",
    "    #print(timestamp(i))\n",
    "    dbinsert(jdata, c)\n",
    "    \n",
    "conn.commit()"
   ]
  },
  {
   "cell_type": "code",
   "execution_count": 14,
   "metadata": {},
   "outputs": [],
   "source": [
    "%matplotlib inline  # fancy"
   ]
  },
  {
   "cell_type": "code",
   "execution_count": 60,
   "metadata": {},
   "outputs": [
    {
     "data": {
      "image/png": "[encoded data removed]",
      "text/plain": [
       "<Figure size 576x432 with 4 Axes>"
      ]
     },
     "metadata": {},
     "output_type": "display_data"
    }
   ],
   "source": [
    "graph(c, debug=True, daterange=[-255, -254]) "
   ]
  },
  {
   "cell_type": "code",
   "execution_count": 20,
   "metadata": {},
   "outputs": [],
   "source": [
    "query = (r\"SELECT * FROM sensor1 WHERE time BETWEEN \"\n",
    "             + r\"datetime('now', 'localtime', '-365 days') AND \"\n",
    "             + r\"datetime('now', 'localtime')\")\n",
    "c.execute(query)\n",
    "res = np.array(c.fetchall())"
   ]
  },
  {
   "cell_type": "code",
   "execution_count": 77,
   "metadata": {},
   "outputs": [
    {
     "data": {
      "text/plain": [
       "{'2018-11-17 19:34:47': ['23.498082027979397',\n",
       "  '41.198082027979396',\n",
       "  '40.99808202797939',\n",
       "  '6.798082027979396',\n",
       "  '2.4980820279793963',\n",
       "  '22.373082027979397'],\n",
       " '2018-11-17 20:34:47': ['22.98717451246051',\n",
       "  '40.687174512460516',\n",
       "  '40.48717451246051',\n",
       "  '6.287174512460509',\n",
       "  '1.9871745124605096',\n",
       "  '21.86217451246051'],\n",
       " '2018-11-17 21:34:47': ['22.028360996905803',\n",
       "  '39.728360996905806',\n",
       "  '39.5283609969058',\n",
       "  '5.328360996905804',\n",
       "  '1.0283609969058038',\n",
       "  '20.903360996905803'],\n",
       " '2018-11-17 22:34:47': ['21.5031702057212',\n",
       "  '39.2031702057212',\n",
       "  '39.0031702057212',\n",
       "  '4.803170205721201',\n",
       "  '0.5031702057212007',\n",
       "  '20.3781702057212'],\n",
       " '2018-11-17 23:34:47': ['21.8944601302804',\n",
       "  '39.5944601302804',\n",
       "  '39.3944601302804',\n",
       "  '5.194460130280399',\n",
       "  '0.894460130280399',\n",
       "  '20.7694601302804'],\n",
       " '2018-11-18 00:34:47': ['22.84248061846961',\n",
       "  '40.54248061846962',\n",
       "  '40.342480618469615',\n",
       "  '6.142480618469612',\n",
       "  '1.8424806184696125',\n",
       "  '21.71748061846961'],\n",
       " '2018-11-18 01:34:47': ['23.475626005468158',\n",
       "  '41.17562600546816',\n",
       "  '40.97562600546816',\n",
       "  '6.775626005468157',\n",
       "  '2.4756260054681576',\n",
       "  '22.350626005468158'],\n",
       " '2018-11-18 02:34:47': ['23.211785342369122',\n",
       "  '40.91178534236913',\n",
       "  '40.711785342369126',\n",
       "  '6.511785342369123',\n",
       "  '2.211785342369123',\n",
       "  '22.086785342369122'],\n",
       " '2018-11-18 03:34:47': ['22.293532518062204',\n",
       "  '39.9935325180622',\n",
       "  '39.7935325180622',\n",
       "  '5.5935325180622035',\n",
       "  '1.2935325180622035',\n",
       "  '21.168532518062204'],\n",
       " '2018-11-18 04:34:47': ['21.565104944475316',\n",
       "  '39.26510494447532',\n",
       "  '39.065104944475316',\n",
       "  '4.865104944475317',\n",
       "  '0.565104944475317',\n",
       "  '20.440104944475316'],\n",
       " '2018-11-18 05:34:47': ['21.696215573448377',\n",
       "  '39.39621557344838',\n",
       "  '39.19621557344838',\n",
       "  '4.996215573448379',\n",
       "  '0.696215573448379',\n",
       "  '20.571215573448377'],\n",
       " '2018-11-18 06:34:47': ['22.5663218973512',\n",
       "  '40.266321897351204',\n",
       "  '40.0663218973512',\n",
       "  '5.866321897351201',\n",
       "  '1.5663218973512008',\n",
       "  '21.4413218973512'],\n",
       " '2018-11-18 07:34:47': ['23.37545217468843',\n",
       "  '41.07545217468843',\n",
       "  '40.87545217468843',\n",
       "  '6.675452174688428',\n",
       "  '2.3754521746884283',\n",
       "  '22.25045217468843'],\n",
       " '2018-11-18 08:34:47': ['23.37969575997167',\n",
       "  '41.07969575997167',\n",
       "  '40.87969575997167',\n",
       "  '6.67969575997167',\n",
       "  '2.37969575997167',\n",
       "  '22.25469575997167'],\n",
       " '2018-11-18 09:34:47': ['22.575151120461808',\n",
       "  '40.275151120461814',\n",
       "  '40.07515112046181',\n",
       "  '5.875151120461809',\n",
       "  '1.5751511204618094',\n",
       "  '21.450151120461808'],\n",
       " '2018-11-18 10:34:47': ['21.70151288737651',\n",
       "  '39.40151288737651',\n",
       "  '39.20151288737651',\n",
       "  '5.00151288737651',\n",
       "  '0.7015128873765097',\n",
       "  '20.57651288737651'],\n",
       " '2018-11-18 11:34:47': ['21.56200002322526',\n",
       "  '39.26200002322526',\n",
       "  '39.06200002322526',\n",
       "  '4.862000023225261',\n",
       "  '0.5620000232252611',\n",
       "  '20.43700002322526'],\n",
       " '2018-11-18 12:34:47': ['22.284880011912186',\n",
       "  '39.98488001191219',\n",
       "  '39.784880011912186',\n",
       "  '5.584880011912184',\n",
       "  '1.2848800119121844',\n",
       "  '21.159880011912186'],\n",
       " '2018-11-18 13:34:47': ['23.205540325570393',\n",
       "  '40.90554032557039',\n",
       "  '40.70554032557039',\n",
       "  '6.505540325570392',\n",
       "  '2.205540325570392',\n",
       "  '22.080540325570393'],\n",
       " '2018-11-18 14:34:47': ['23.477530117665097',\n",
       "  '41.1775301176651',\n",
       "  '40.9775301176651',\n",
       "  '6.777530117665097',\n",
       "  '2.477530117665097',\n",
       "  '22.352530117665097'],\n",
       " '2018-11-18 15:34:47': ['22.850783227689618',\n",
       "  '40.55078322768962',\n",
       "  '40.35078322768962',\n",
       "  '6.15078322768962',\n",
       "  '1.85078322768962',\n",
       "  '21.725783227689618'],\n",
       " '2018-11-18 16:34:47': ['21.901527855896042',\n",
       "  '39.601527855896045',\n",
       "  '39.40152785589604',\n",
       "  '5.201527855896043',\n",
       "  '0.9015278558960435',\n",
       "  '20.776527855896042'],\n",
       " '2018-11-18 17:34:47': ['21.502505013395947',\n",
       "  '39.20250501339595',\n",
       "  '39.00250501339595',\n",
       "  '4.802505013395946',\n",
       "  '0.5025050133959456',\n",
       "  '20.377505013395947']}"
      ]
     },
     "execution_count": 77,
     "metadata": {},
     "output_type": "execute_result"
    }
   ],
   "source": [
    "#print(jsonStream)\n",
    "jsonStream"
   ]
  },
  {
   "cell_type": "code",
   "execution_count": null,
   "metadata": {},
   "outputs": [],
   "source": [
    "# nov 21: updates to update() and graph()"
   ]
  },
  {
   "cell_type": "code",
   "execution_count": 21,
   "metadata": {},
   "outputs": [
    {
     "data": {
      "text/plain": [
       "array(['2018-03-09 01:10:00', '25.0', '24.3', '24.18981', '4.047626',\n",
       "       '0.207039', '24.5625'], dtype='<U19')"
      ]
     },
     "execution_count": 21,
     "metadata": {},
     "output_type": "execute_result"
    }
   ],
   "source": [
    "res[0]\n"
   ]
  },
  {
   "cell_type": "code",
   "execution_count": null,
   "metadata": {},
   "outputs": [],
   "source": []
  }
 ],
 "metadata": {
  "kernelspec": {
   "display_name": "Python 3",
   "language": "python",
   "name": "python3"
  },
  "language_info": {
   "codemirror_mode": {
    "name": "ipython",
    "version": 3
   },
   "file_extension": ".py",
   "mimetype": "text/x-python",
   "name": "python",
   "nbconvert_exporter": "python",
   "pygments_lexer": "ipython3",
   "version": "3.6.6"
  }
 },
 "nbformat": 4,
 "nbformat_minor": 2
}
